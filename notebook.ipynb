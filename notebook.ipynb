{
 "cells": [
  {
   "cell_type": "code",
   "execution_count": 16,
   "metadata": {},
   "outputs": [],
   "source": [
    "import numpy as np\n",
    "import json\n",
    "import re\n",
    "import tensorflow as tf\n",
    "import random\n",
    "import spacy\n",
    "nlp = spacy.load('en_core_web_sm')\n"
   ]
  },
  {
   "cell_type": "code",
   "execution_count": 17,
   "metadata": {},
   "outputs": [],
   "source": [
    "with open('intent.json') as f:\n",
    "    intents = json.load(f)\n"
   ]
  },
  {
   "cell_type": "code",
   "execution_count": 18,
   "metadata": {},
   "outputs": [],
   "source": [
    "def preprocessing(line):\n",
    "    line = re.sub(r'[^a-zA-z.?!\\']', ' ', line)\n",
    "    line = re.sub(r'[ ]+', ' ', line)\n",
    "    return line\n"
   ]
  },
  {
   "cell_type": "code",
   "execution_count": 20,
   "metadata": {},
   "outputs": [],
   "source": [
    "# get text and intent title from json data\n",
    "inputs, targets = [], []\n",
    "classes = []\n",
    "intent_doc = {}\n",
    "\n",
    "for intent in intents['intents']:\n",
    "    if intent['intent'] not in classes:\n",
    "        classes.append(intent['intent'])\n",
    "    if intent['intent'] not in intent_doc:\n",
    "        intent_doc[intent['intent']] = []\n",
    "        \n",
    "    for text in intent['text']:\n",
    "        inputs.append(preprocessing(text))\n",
    "        targets.append(intent['intent'])\n",
    "        \n",
    "    for response in intent['responses']:\n",
    "        intent_doc[intent['intent']].append(response)"
   ]
  },
  {
   "cell_type": "code",
   "execution_count": 21,
   "metadata": {},
   "outputs": [
    {
     "name": "stdout",
     "output_type": "stream",
     "text": [
      "{'intent': 'SelfAware', 'text': ['Can you prove you are self-aware', 'Can you prove you are self aware', 'Can you prove you have a conscious', 'Can you prove you are self-aware please', 'Can you prove you are self aware please', 'Can you prove you have a conscious please', 'prove you have a conscious'], 'responses': ['That is an interesting question, can you prove that you are?', 'That is an difficult question, can you prove that you are?', 'That depends, can you prove that you are?'], 'extension': {'function': '', 'entities': False, 'responses': []}, 'context': {'in': '', 'out': '', 'clear': False}, 'entityType': 'NA', 'entities': []}\n"
     ]
    }
   ],
   "source": [
    "print(intent)"
   ]
  },
  {
   "cell_type": "code",
   "execution_count": 22,
   "metadata": {},
   "outputs": [],
   "source": [
    "def tokenize_data(input_list):\n",
    "    tokenizer = tf.keras.preprocessing.text.Tokenizer(filters='', oov_token='<unk>')\n",
    "    \n",
    "    tokenizer.fit_on_texts(input_list)\n",
    "    \n",
    "    input_seq = tokenizer.texts_to_sequences(input_list)\n",
    "\n",
    "    input_seq = tf.keras.preprocessing.sequence.pad_sequences(input_seq, padding='pre')\n",
    "    \n",
    "    return tokenizer, input_seq\n",
    "\n",
    "# preprocess input data\n",
    "tokenizer, input_tensor = tokenize_data(inputs)\n"
   ]
  },
  {
   "cell_type": "code",
   "execution_count": 23,
   "metadata": {},
   "outputs": [],
   "source": [
    "def create_categorical_target(targets):\n",
    "    word={}\n",
    "    categorical_target=[]\n",
    "    counter=0\n",
    "    for trg in targets:\n",
    "        if trg not in word:\n",
    "            word[trg]=counter\n",
    "            counter+=1\n",
    "        categorical_target.append(word[trg])\n",
    "    \n",
    "    categorical_tensor = tf.keras.utils.to_categorical(categorical_target, num_classes=len(word), dtype='int32')\n",
    "    return categorical_tensor, dict((v,k) for k, v in word.items())\n",
    "\n",
    "# preprocess output data\n",
    "target_tensor, trg_index_word = create_categorical_target(targets)\n"
   ]
  },
  {
   "cell_type": "code",
   "execution_count": 24,
   "metadata": {},
   "outputs": [
    {
     "name": "stdout",
     "output_type": "stream",
     "text": [
      "input shape: (243, 9) and output shape: (243, 77)\n"
     ]
    }
   ],
   "source": [
    "print('input shape: {} and output shape: {}'.format(input_tensor.shape, target_tensor.shape))\n"
   ]
  },
  {
   "cell_type": "code",
   "execution_count": 25,
   "metadata": {},
   "outputs": [],
   "source": [
    "# hyperparameters\n",
    "epochs=50\n",
    "vocab_size=len(tokenizer.word_index) + 1\n",
    "embed_dim=512\n",
    "units=128\n",
    "target_length=target_tensor.shape[1]\n"
   ]
  },
  {
   "cell_type": "code",
   "execution_count": 26,
   "metadata": {},
   "outputs": [
    {
     "name": "stdout",
     "output_type": "stream",
     "text": [
      "Model: \"sequential\"\n",
      "_________________________________________________________________\n",
      " Layer (type)                Output Shape              Param #   \n",
      "=================================================================\n",
      " embedding (Embedding)       (None, None, 512)         112128    \n",
      "                                                                 \n",
      " bidirectional (Bidirectiona  (None, 256)              656384    \n",
      " l)                                                              \n",
      "                                                                 \n",
      " dense (Dense)               (None, 128)               32896     \n",
      "                                                                 \n",
      " dropout (Dropout)           (None, 128)               0         \n",
      "                                                                 \n",
      " dense_1 (Dense)             (None, 77)                9933      \n",
      "                                                                 \n",
      "=================================================================\n",
      "Total params: 811,341\n",
      "Trainable params: 811,341\n",
      "Non-trainable params: 0\n",
      "_________________________________________________________________\n"
     ]
    },
    {
     "name": "stderr",
     "output_type": "stream",
     "text": [
      "E:\\Programs\\Anaconda\\lib\\site-packages\\keras\\optimizer_v2\\adam.py:105: UserWarning: The `lr` argument is deprecated, use `learning_rate` instead.\n",
      "  super(Adam, self).__init__(name, **kwargs)\n"
     ]
    }
   ],
   "source": [
    "# build RNN Model with tensorflow\n",
    "model = tf.keras.models.Sequential([\n",
    "    tf.keras.layers.Embedding(vocab_size, embed_dim),\n",
    "    tf.keras.layers.Bidirectional(tf.keras.layers.LSTM(units, dropout=0.2)),\n",
    "    tf.keras.layers.Dense(units, activation='relu'),\n",
    "    tf.keras.layers.Dropout(0.5),\n",
    "    tf.keras.layers.Dense(target_length, activation='softmax')\n",
    "])\n",
    "\n",
    "optimizer = tf.keras.optimizers.Adam(lr=1e-2)\n",
    "model.compile(optimizer=optimizer, loss='categorical_crossentropy', metrics=['accuracy'])\n",
    "model.summary()"
   ]
  },
  {
   "cell_type": "code",
   "execution_count": 27,
   "metadata": {},
   "outputs": [
    {
     "name": "stdout",
     "output_type": "stream",
     "text": [
      "Epoch 1/50\n",
      "8/8 [==============================] - 4s 43ms/step - loss: 4.3232 - accuracy: 0.0494\n",
      "Epoch 2/50\n",
      "8/8 [==============================] - 0s 41ms/step - loss: 3.6523 - accuracy: 0.1440\n",
      "Epoch 3/50\n",
      "8/8 [==============================] - 0s 41ms/step - loss: 3.0194 - accuracy: 0.2922\n",
      "Epoch 4/50\n",
      "8/8 [==============================] - 0s 41ms/step - loss: 2.2398 - accuracy: 0.4444\n",
      "Epoch 5/50\n",
      "8/8 [==============================] - 0s 45ms/step - loss: 1.7106 - accuracy: 0.5761\n",
      "Epoch 6/50\n",
      "8/8 [==============================] - 0s 43ms/step - loss: 1.3534 - accuracy: 0.6584\n",
      "Epoch 7/50\n",
      "8/8 [==============================] - 0s 42ms/step - loss: 0.9993 - accuracy: 0.7202\n",
      "Epoch 8/50\n",
      "8/8 [==============================] - 0s 43ms/step - loss: 0.6800 - accuracy: 0.8107\n",
      "Epoch 9/50\n",
      "8/8 [==============================] - 0s 41ms/step - loss: 0.6790 - accuracy: 0.7778\n",
      "Epoch 10/50\n",
      "8/8 [==============================] - 0s 41ms/step - loss: 0.5521 - accuracy: 0.8189\n",
      "Epoch 11/50\n",
      "8/8 [==============================] - 0s 43ms/step - loss: 0.5180 - accuracy: 0.8642\n",
      "Epoch 12/50\n",
      "8/8 [==============================] - 0s 41ms/step - loss: 0.3357 - accuracy: 0.8971\n",
      "Epoch 13/50\n",
      "8/8 [==============================] - 0s 46ms/step - loss: 0.3827 - accuracy: 0.8724\n",
      "Epoch 14/50\n",
      "8/8 [==============================] - 0s 43ms/step - loss: 0.3697 - accuracy: 0.8848\n",
      "Epoch 15/50\n",
      "8/8 [==============================] - 0s 42ms/step - loss: 0.3238 - accuracy: 0.8724\n",
      "Epoch 16/50\n",
      "8/8 [==============================] - 0s 41ms/step - loss: 0.2406 - accuracy: 0.9342\n",
      "Epoch 17/50\n",
      "8/8 [==============================] - 0s 40ms/step - loss: 0.2475 - accuracy: 0.9136\n",
      "Epoch 18/50\n",
      "8/8 [==============================] - 0s 43ms/step - loss: 0.1795 - accuracy: 0.9383\n",
      "Epoch 19/50\n",
      "8/8 [==============================] - 0s 44ms/step - loss: 0.2146 - accuracy: 0.9342\n",
      "Epoch 20/50\n",
      "8/8 [==============================] - 0s 43ms/step - loss: 0.1981 - accuracy: 0.9259\n",
      "Epoch 21/50\n",
      "8/8 [==============================] - 0s 41ms/step - loss: 0.1974 - accuracy: 0.9300\n",
      "Epoch 22/50\n",
      "8/8 [==============================] - 0s 41ms/step - loss: 0.1835 - accuracy: 0.9177\n"
     ]
    },
    {
     "data": {
      "text/plain": [
       "<keras.callbacks.History at 0x13a92865fa0>"
      ]
     },
     "execution_count": 27,
     "metadata": {},
     "output_type": "execute_result"
    }
   ],
   "source": [
    "early_stop = tf.keras.callbacks.EarlyStopping(monitor='loss', patience=4)\n",
    "\n",
    "# train the model\n",
    "model.fit(input_tensor, target_tensor, epochs=epochs, callbacks=[early_stop])\n"
   ]
  },
  {
   "cell_type": "code",
   "execution_count": 28,
   "metadata": {},
   "outputs": [],
   "source": [
    "model.save('saved_model/my_model2.h5')\n"
   ]
  },
  {
   "cell_type": "code",
   "execution_count": 29,
   "metadata": {},
   "outputs": [
    {
     "name": "stdout",
     "output_type": "stream",
     "text": [
      "Model: \"sequential\"\n",
      "_________________________________________________________________\n",
      " Layer (type)                Output Shape              Param #   \n",
      "=================================================================\n",
      " embedding (Embedding)       (None, None, 512)         112128    \n",
      "                                                                 \n",
      " bidirectional (Bidirectiona  (None, 256)              656384    \n",
      " l)                                                              \n",
      "                                                                 \n",
      " dense (Dense)               (None, 128)               32896     \n",
      "                                                                 \n",
      " dropout (Dropout)           (None, 128)               0         \n",
      "                                                                 \n",
      " dense_1 (Dense)             (None, 77)                9933      \n",
      "                                                                 \n",
      "=================================================================\n",
      "Total params: 811,341\n",
      "Trainable params: 811,341\n",
      "Non-trainable params: 0\n",
      "_________________________________________________________________\n"
     ]
    }
   ],
   "source": [
    "new_model = tf.keras.models.load_model('saved_model/my_model2.h5')\n",
    "\n",
    "# Check its architecture\n",
    "new_model.summary()\n"
   ]
  },
  {
   "cell_type": "code",
   "execution_count": 31,
   "metadata": {},
   "outputs": [
    {
     "name": "stdout",
     "output_type": "stream",
     "text": [
      "Note: Enter 'quit' to break the loop.\n",
      "Bot: Yes. I work and all my operations are based on the internet servers. -- TYPE: bot1\n",
      "\n",
      "Bot: There are currently no upcoming events -- TYPE: events\n",
      "\n",
      "Bot:  Python. -- TYPE: lang\n",
      "\n",
      "Bot:  I am written in Python. -- TYPE: lang\n",
      "\n",
      "Bot:  I am written in Python. -- TYPE: lang\n",
      "\n",
      "Bot: There are currently no upcoming events -- TYPE: events\n",
      "\n",
      "Bot:  Python. -- TYPE: lang\n",
      "\n",
      "Bot:  I am written in Python. -- TYPE: lang\n",
      "\n",
      "Bot: hello thanks for checking in -- TYPE: greetings\n",
      "\n",
      "Bot: Man: Doctor, I've just swallowed a pillow. Doctor: How do you feel? Man: A little down in the mouth. -- TYPE: Jokes\n",
      "\n"
     ]
    }
   ],
   "source": [
    "def response(sentence):\n",
    "    sent_seq = []\n",
    "    doc = nlp(repr(sentence))\n",
    "    \n",
    "    # split the input sentences into words\n",
    "    for token in doc:\n",
    "        if token.text in tokenizer.word_index:\n",
    "            sent_seq.append(tokenizer.word_index[token.text])\n",
    "\n",
    "        # handle the unknown words error\n",
    "        else:\n",
    "            sent_seq.append(tokenizer.word_index['<unk>'])\n",
    "\n",
    "    sent_seq = tf.expand_dims(sent_seq, 0)\n",
    "    # predict the category of input sentences\n",
    "    pred = new_model(sent_seq)\n",
    "\n",
    "    pred_class = np.argmax(pred.numpy(), axis=1)\n",
    "    \n",
    "    # choice a random response for predicted sentence\n",
    "    return random.choice(intent_doc[trg_index_word[pred_class[0]]]), trg_index_word[pred_class[0]]\n",
    "\n",
    "# chat with bot\n",
    "print(\"Note: Enter 'quit' to break the loop.\")\n",
    "while True:\n",
    "    input_ = input('You: ')\n",
    "    if input_.lower() == 'quit':\n",
    "        break\n",
    "    res, typ = response(input_)\n",
    "    print('Bot: {} -- TYPE: {}'.format(res, typ))\n",
    "    print()\n"
   ]
  },
  {
   "cell_type": "code",
   "execution_count": null,
   "metadata": {},
   "outputs": [],
   "source": []
  },
  {
   "cell_type": "code",
   "execution_count": null,
   "metadata": {},
   "outputs": [],
   "source": []
  }
 ],
 "metadata": {
  "interpreter": {
   "hash": "b3ba2566441a7c06988d0923437866b63cedc61552a5af99d1f4fb67d367b25f"
  },
  "kernelspec": {
   "display_name": "Python 3.8.8 ('base')",
   "language": "python",
   "name": "python3"
  },
  "language_info": {
   "codemirror_mode": {
    "name": "ipython",
    "version": 3
   },
   "file_extension": ".py",
   "mimetype": "text/x-python",
   "name": "python",
   "nbconvert_exporter": "python",
   "pygments_lexer": "ipython3",
   "version": "3.7.11"
  },
  "orig_nbformat": 4
 },
 "nbformat": 4,
 "nbformat_minor": 2
}
